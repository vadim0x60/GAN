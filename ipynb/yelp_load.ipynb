{
 "cells": [
  {
   "cell_type": "code",
   "execution_count": 64,
   "metadata": {
    "collapsed": true
   },
   "outputs": [],
   "source": [
    "import numpy as np\n",
    "from io import open\n",
    "import re\n",
    "import string\n",
    "import random\n",
    "from pprint import pprint\n",
    "from Constant import Constants\n",
    "from load_data import data2index, StyleData"
   ]
  },
  {
   "cell_type": "code",
   "execution_count": 30,
   "metadata": {
    "collapsed": true
   },
   "outputs": [],
   "source": [
    "con = Constants(n_vocab=100)\n",
    "con."
   ]
  },
  {
   "cell_type": "code",
   "execution_count": 52,
   "metadata": {
    "collapsed": true
   },
   "outputs": [],
   "source": [
    "def readfile(filename):\n",
    "    con = Constants(100)\n",
    "    data = open(filename,encoding='utf-8').read().strip().split('\\n')\n",
    "    data = [split(seq.lower()) for seq in data]\n",
    "    data = [s for s in data if len(s) < con.Max_len and len(s) > con.Min_len]\n",
    "    return data"
   ]
  },
  {
   "cell_type": "code",
   "execution_count": 53,
   "metadata": {
    "collapsed": false
   },
   "outputs": [
    {
     "data": {
      "text/plain": [
       "[[u'so',\n",
       "  u'on',\n",
       "  u'to',\n",
       "  u'the',\n",
       "  u'hoagies',\n",
       "  u',',\n",
       "  u'the',\n",
       "  u'italian',\n",
       "  u'is',\n",
       "  u'general',\n",
       "  u'run',\n",
       "  u'of',\n",
       "  u'the',\n",
       "  u'mill',\n",
       "  u'.'],\n",
       " [u'minimal',\n",
       "  u'meat',\n",
       "  u'and',\n",
       "  u'a',\n",
       "  u'ton',\n",
       "  u'of',\n",
       "  u'shredded',\n",
       "  u'lettuce',\n",
       "  u'.'],\n",
       " [u'nothing',\n",
       "  u'really',\n",
       "  u'special',\n",
       "  u'&',\n",
       "  u'not',\n",
       "  u'worthy',\n",
       "  u'of',\n",
       "  u'the',\n",
       "  u'$',\n",
       "  u'_num_',\n",
       "  u'price',\n",
       "  u'tag',\n",
       "  u'.'],\n",
       " [u'second',\n",
       "  u',',\n",
       "  u'the',\n",
       "  u'steak',\n",
       "  u'hoagie',\n",
       "  u',',\n",
       "  u'it',\n",
       "  u'is',\n",
       "  u'atrocious',\n",
       "  u'.'],\n",
       " [u'i',\n",
       "  u'had',\n",
       "  u'to',\n",
       "  u'pay',\n",
       "  u'$',\n",
       "  u'_num_',\n",
       "  u'to',\n",
       "  u'add',\n",
       "  u'cheese',\n",
       "  u'to',\n",
       "  u'the',\n",
       "  u'hoagie',\n",
       "  u'.'],\n",
       " [u'she',\n",
       "  u'told',\n",
       "  u'me',\n",
       "  u'there',\n",
       "  u'was',\n",
       "  u'a',\n",
       "  u'charge',\n",
       "  u'for',\n",
       "  u'the',\n",
       "  u'dressing',\n",
       "  u'on',\n",
       "  u'the',\n",
       "  u'side',\n",
       "  u'.'],\n",
       " [u'i',\n",
       "  u'was',\n",
       "  u'not',\n",
       "  u'going',\n",
       "  u'to',\n",
       "  u'pay',\n",
       "  u'for',\n",
       "  u'the',\n",
       "  u'dressing',\n",
       "  u'on',\n",
       "  u'the',\n",
       "  u'side',\n",
       "  u'.'],\n",
       " [u'i',\n",
       "  u'ordered',\n",
       "  u'it',\n",
       "  u'without',\n",
       "  u'lettuce',\n",
       "  u',',\n",
       "  u'tomato',\n",
       "  u',',\n",
       "  u'onions',\n",
       "  u',',\n",
       "  u'or',\n",
       "  u'dressing',\n",
       "  u'.'],\n",
       " [u'i',\n",
       "  u'paid',\n",
       "  u'$',\n",
       "  u'_num_',\n",
       "  u'to',\n",
       "  u'add',\n",
       "  u'sauted',\n",
       "  u'mushrooms',\n",
       "  u',',\n",
       "  u'onions',\n",
       "  u',',\n",
       "  u'and',\n",
       "  u'cheese',\n",
       "  u'.'],\n",
       " [u'(',\n",
       "  u'the',\n",
       "  u'hoagie',\n",
       "  u'bun',\n",
       "  u'was',\n",
       "  u'better',\n",
       "  u'than',\n",
       "  u'average',\n",
       "  u'.',\n",
       "  u')']]"
      ]
     },
     "execution_count": 53,
     "metadata": {},
     "output_type": "execute_result"
    }
   ],
   "source": [
    "readfile('../data/yelp/sentiment.train.0')[:10]"
   ]
  },
  {
   "cell_type": "code",
   "execution_count": 54,
   "metadata": {
    "collapsed": true
   },
   "outputs": [],
   "source": [
    "def split(seq):\n",
    "    return re.split(r' ', seq.strip())"
   ]
  },
  {
   "cell_type": "code",
   "execution_count": 93,
   "metadata": {
    "collapsed": true
   },
   "outputs": [],
   "source": [
    "def saveTrainData(filenames):\n",
    "    # src represent source and trt represent target\n",
    "    srcname = filenames[0]\n",
    "    trtname = filenames[1]\n",
    "    srcdata = readfile(srcname)\n",
    "    trtdata = readfile(trtname)\n",
    "    datapairs = [srcdata, trtdata]\n",
    "    style = StyleData(datapairs)\n",
    "    style.save('../data/style')\n",
    "    datapairs = data2index(datapairs,style)\n",
    "    datapairs = np.array(datapairs)\n",
    "    np.save('../data/trainDataOfIndex',datapairs)\n",
    "    return "
   ]
  },
  {
   "cell_type": "code",
   "execution_count": null,
   "metadata": {
    "collapsed": true
   },
   "outputs": [],
   "source": []
  },
  {
   "cell_type": "code",
   "execution_count": 95,
   "metadata": {
    "collapsed": false
   },
   "outputs": [
    {
     "name": "stdout",
     "output_type": "stream",
     "text": [
      "finished\n"
     ]
    }
   ],
   "source": [
    "if __name__ == \"__main__\":\n",
    "    filenames = ['../data/yelp/sentiment.test.0','../data/yelp/sentiment.test.1']\n",
    "    saveTrainData(filenames)\n",
    "    print 'finished'"
   ]
  },
  {
   "cell_type": "code",
   "execution_count": null,
   "metadata": {
    "collapsed": true
   },
   "outputs": [],
   "source": []
  },
  {
   "cell_type": "code",
   "execution_count": null,
   "metadata": {
    "collapsed": true
   },
   "outputs": [],
   "source": []
  },
  {
   "cell_type": "code",
   "execution_count": null,
   "metadata": {
    "collapsed": true
   },
   "outputs": [],
   "source": []
  }
 ],
 "metadata": {
  "anaconda-cloud": {},
  "kernelspec": {
   "display_name": "Python [conda env:Anaconda3]",
   "language": "python",
   "name": "conda-env-Anaconda3-py"
  },
  "language_info": {
   "codemirror_mode": {
    "name": "ipython",
    "version": 3
   },
   "file_extension": ".py",
   "mimetype": "text/x-python",
   "name": "python",
   "nbconvert_exporter": "python",
   "pygments_lexer": "ipython3",
   "version": "3.5.2"
  }
 },
 "nbformat": 4,
 "nbformat_minor": 2
}
